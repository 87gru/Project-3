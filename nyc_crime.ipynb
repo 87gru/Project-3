{
 "cells": [
  {
   "cell_type": "code",
   "execution_count": 141,
   "metadata": {},
   "outputs": [],
   "source": [
    "# Import dependencies\n",
    "import json\n",
    "import pandas as pd\n",
    "import requests\n",
    "import time\n",
    "import urllib.parse"
   ]
  },
  {
   "cell_type": "code",
   "execution_count": 175,
   "metadata": {},
   "outputs": [],
   "source": [
    "# Define parameters for query\n",
    "begin_date = '2015-05-05' # Enter the YYYY-MM-DD\n",
    "end_date = '2015-05-06'\n",
    "borough = 'MANHATTAN' #Choose one of the five boroughs"
   ]
  },
  {
   "cell_type": "code",
   "execution_count": null,
   "metadata": {},
   "outputs": [],
   "source": [
    "# String for query\n",
    "query_string = f\"boro_nm = '{borough}' AND rpt_dt >= '{begin_date}' AND rpt_dt <= '{end_date}'\"\n",
    "\n",
    "# Use urllib.parse.quote_plus to format the string for URL\n",
    "safe_string = urllib.parse.quote_plus(query_string)"
   ]
  },
  {
   "cell_type": "code",
   "execution_count": 173,
   "metadata": {},
   "outputs": [],
   "source": [
    "# Define variables for the While Loop. Create empty list to house the dictionaries created during the loop\n",
    "records_count = 1\n",
    "records = 0\n",
    "offset = 0\n",
    "set = 1\n",
    "limit = 1000\n",
    "data_list = []"
   ]
  },
  {
   "cell_type": "code",
   "execution_count": null,
   "metadata": {},
   "outputs": [],
   "source": [
    "# While loop. While len of json_results > 0, query the URL.\n",
    "while records_count != 0:\n",
    "    # Define the URL for the JSON.\n",
    "    url = f\"https://data.cityofnewyork.us/resource/qgea-i56i.json?$where={safe_string}&$limit={limit}&$offset={offset}&$order=cmplnt_num\"\n",
    "    # Get the JSON\n",
    "    json_results = requests.get(url).json()\n",
    "    # Add to the number of results to track total number\n",
    "    records += len(json_results)\n",
    "    # Print message to console showing number of rows extracted, show set number.\n",
    "    print(f\"Extracting {len(json_results)} rows of data, Set # {set}\")\n",
    "    \n",
    "    # Extract and store requested data into lists\n",
    "    for x in range(len(json_results)):\n",
    "\n",
    "        # Parse data into variables\n",
    "        complaint_no = json_results[x]['cmplnt_num']\n",
    "        reported_date = json_results[x]['rpt_dt']\n",
    "        borough_name = json_results[x]['boro_nm']\n",
    "        ofns = json_results[x]['ofns_desc']\n",
    "        pd_desc = json_results[x]['pd_desc']\n",
    "        law_cat_cd = json_results[x]['law_cat_cd']\n",
    "        # Some records contain blank values in the lat/lon fields; as a result, the JSON for this [x] does not have 'latitude' or 'longitude' keys. Use try/except to store None into the variables for these records\n",
    "        try:\n",
    "            lat = json_results[x]['latitude']\n",
    "        except:\n",
    "            lat = None\n",
    "        try:\n",
    "            lon = json_results[x]['longitude']\n",
    "        except: \n",
    "            lon = None\n",
    "\n",
    "        # Append above data as a dictionary into data list\n",
    "        data_list.append({\n",
    "            \"Complaint_No\":complaint_no,\n",
    "            \"Reported_Dt\":reported_date,\n",
    "            \"Borough_Name\":borough_name,\n",
    "            \"Ofns_Desc\": ofns,\n",
    "            \"PD_Desc\":pd_desc,\n",
    "            \"Law_Cat\": law_cat_cd,\n",
    "            \"Latitude\": lat,\n",
    "            \"Longitude\": lon\n",
    "        })\n",
    "\n",
    "    # Update the offset number by 1000\n",
    "    offset = limit + offset\n",
    "    # Update the set count\n",
    "    set += 1\n",
    "    # Update the records_count variable with count of json_results. Once it hits zero, loop will terminate\n",
    "    records_count = len(json_results)\n",
    "    # Delay of 1 second to avoid rate limiting\n",
    "    time.sleep(1)\n",
    "# Once loop condition is no longer true, print total number of records    \n",
    "else: print(f\"Total number of records extracted: {records}\")"
   ]
  },
  {
   "cell_type": "code",
   "execution_count": 170,
   "metadata": {},
   "outputs": [],
   "source": [
    "# Create DataFrame\n",
    "crime_df = pd.DataFrame(data_list)"
   ]
  },
  {
   "cell_type": "code",
   "execution_count": null,
   "metadata": {},
   "outputs": [],
   "source": [
    "# DataFrame info\n",
    "crime_df.info()"
   ]
  },
  {
   "cell_type": "code",
   "execution_count": null,
   "metadata": {},
   "outputs": [],
   "source": [
    "# Save crime_df to CSV file -- @Dalton, change the file name before running\n",
    "crime_df.to_csv('Output/NPYD_Complaints_01-01-13_12-31-18.csv', index=False)"
   ]
  }
 ],
 "metadata": {
  "kernelspec": {
   "display_name": "Python 3 (ipykernel)",
   "language": "python",
   "name": "python3"
  },
  "language_info": {
   "codemirror_mode": {
    "name": "ipython",
    "version": 3
   },
   "file_extension": ".py",
   "mimetype": "text/x-python",
   "name": "python",
   "nbconvert_exporter": "python",
   "pygments_lexer": "ipython3",
   "version": "3.10.14"
  }
 },
 "nbformat": 4,
 "nbformat_minor": 4
}
