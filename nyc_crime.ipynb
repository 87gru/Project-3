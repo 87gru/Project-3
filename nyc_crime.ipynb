{
 "cells": [
  {
   "cell_type": "code",
   "execution_count": null,
   "metadata": {},
   "outputs": [],
   "source": [
    "# Import dependencies\n",
    "import json\n",
    "import pandas as pd\n",
    "import requests\n",
    "import time"
   ]
  },
  {
   "cell_type": "code",
   "execution_count": null,
   "metadata": {},
   "outputs": [],
   "source": [
    "# Define parameters for query\n",
    "begin_date = '2013-01-01T00:00:00.000' # Enter the YYYY-MM-DD, leave T00:00:00.000 intact\n",
    "end_date = '2018-12-31T00:00:00.000'\n",
    "borough = 'MANHATTAN' #Choose one of the five boroughs\n",
    "\n",
    "# This query URL will get all rows based on date range\n",
    "base_query = f\"https://data.cityofnewyork.us/resource/qgea-i56i.json?$where=rpt_dt%20between%20%27{begin_date}%27%20and%20%27{end_date}%27\"\n",
    "\n",
    "# This query will search the same date range but also filter by borough -- this is the one we're going to use\n",
    "borough_query = f\"https://data.cityofnewyork.us/resource/qgea-i56i.json?$where=boro_nm%20=%20%27{borough}%27%20and%20rpt_dt%20between%20%27{begin_date}%27%20and%20%27{end_date}%27\""
   ]
  },
  {
   "cell_type": "code",
   "execution_count": null,
   "metadata": {},
   "outputs": [],
   "source": [
    "# Create lists to store fields from the JSON\n",
    "complaint_number = [] #'cmplnt_num'\n",
    "reported_date = [] #'rpt_dt'\n",
    "borough_name = [] #'boro_nm'\n",
    "offense_desc = [] #'ofns_desc'\n",
    "pd_desc = [] # 'pd_desc'\n",
    "law_cat = [] #law_cat_cd\n",
    "lat = [] #latitude\n",
    "lon = [] #longitude"
   ]
  },
  {
   "cell_type": "code",
   "execution_count": null,
   "metadata": {},
   "outputs": [],
   "source": [
    "# Define variables for the For Loop.\n",
    "records_count = 1\n",
    "records = 0\n",
    "offset = 0\n",
    "set = 1\n",
    "limit = 1000"
   ]
  },
  {
   "cell_type": "code",
   "execution_count": null,
   "metadata": {},
   "outputs": [],
   "source": [
    "# While loop. While len of json_results > 0, query the URL.\n",
    "while records_count != 0:\n",
    "    # Define the limit/offset portion of the URL. Updates after every iteration. The limit is default set to 1000, per API documentation.\n",
    "    limit_query = f\"&$limit=1000&$offset={offset}\"\n",
    "    # Get the JSON\n",
    "    json_results = requests.get(borough_query,limit_query).json()\n",
    "    # Add to the number of results to track total number\n",
    "    records += len(json_results)\n",
    "    # Print message to console showing number of rows extracted, show set number.\n",
    "    print(f\"Extracting {len(json_results)} rows of data, Set # {set}\")\n",
    "    # Extract and store requested data into lists\n",
    "    for x in range(len(json_results)):\n",
    "        complaint_number.append(json_results[x]['cmplnt_num'])\n",
    "        reported_date.append(json_results[x]['rpt_dt'])\n",
    "        borough_name.append(json_results[x]['boro_nm'])\n",
    "        offense_desc.append(json_results[x]['ofns_desc'])\n",
    "        pd_desc.append(json_results[x]['pd_desc'])\n",
    "        law_cat.append(json_results[x]['law_cat_cd'])\n",
    "        lat.append(json_results[x]['latitude'])\n",
    "        lon.append(json_results[x]['longitude'])\n",
    "    # Update the offset number by 1000\n",
    "    offset = limit + offset\n",
    "    # Update the set count\n",
    "    set += 1\n",
    "    # Update the records_count variable with count of json_results. Once it hits zero, loop will terminate\n",
    "    records_count = len(json_results)\n",
    "    # Delay of 2 second to avoid rate limiting\n",
    "    time.sleep(2)\n",
    "# Once loop condition is no longer true, print total number of records    \n",
    "else: print(f\"Total number of records extracted: {records}\")"
   ]
  },
  {
   "cell_type": "code",
   "execution_count": null,
   "metadata": {},
   "outputs": [],
   "source": [
    "crime_df = pd.DataFrame({\n",
    "    \"Complaint Number\":complaint_number,\n",
    "    \"Reported Date\":reported_date,\n",
    "    \"Borough\":borough_name,\n",
    "    \"Offense Desc\":offense_desc,\n",
    "    \"Police Desc\": pd_desc,\n",
    "    \"Law Cat\":law_cat,\n",
    "    \"Latitude\":lat,\n",
    "    \"Longitude\":lon\n",
    "})"
   ]
  },
  {
   "cell_type": "code",
   "execution_count": null,
   "metadata": {},
   "outputs": [],
   "source": [
    "# DataFrame info\n",
    "crime_df.info()"
   ]
  },
  {
   "cell_type": "code",
   "execution_count": null,
   "metadata": {},
   "outputs": [],
   "source": [
    "# Save crime_df to CSV file -- @Dalton, change the file name before running\n",
    "crime_df.to_csv('Output/NPYD_Complaints_01-01-13_12-31-18.csv', index=False)"
   ]
  }
 ],
 "metadata": {
  "kernelspec": {
   "display_name": "Python 3 (ipykernel)",
   "language": "python",
   "name": "python3"
  },
  "language_info": {
   "codemirror_mode": {
    "name": "ipython",
    "version": 3
   },
   "file_extension": ".py",
   "mimetype": "text/x-python",
   "name": "python",
   "nbconvert_exporter": "python",
   "pygments_lexer": "ipython3",
   "version": "3.10.14"
  }
 },
 "nbformat": 4,
 "nbformat_minor": 4
}
